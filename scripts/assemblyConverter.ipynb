{
 "metadata": {
  "language_info": {
   "codemirror_mode": {
    "name": "ipython",
    "version": 3
   },
   "file_extension": ".py",
   "mimetype": "text/x-python",
   "name": "python",
   "nbconvert_exporter": "python",
   "pygments_lexer": "ipython3",
   "version": "3.7.6"
  },
  "orig_nbformat": 4,
  "kernelspec": {
   "name": "python3",
   "display_name": "Python 3.7.6 64-bit ('base': conda)"
  },
  "interpreter": {
   "hash": "b3ba2566441a7c06988d0923437866b63cedc61552a5af99d1f4fb67d367b25f"
  }
 },
 "nbformat": 4,
 "nbformat_minor": 2,
 "cells": [
  {
   "cell_type": "code",
   "execution_count": 359,
   "metadata": {},
   "outputs": [],
   "source": [
    "#IMPORTS\n",
    "import re\n",
    "import numpy as np\n",
    "#CONSTANTS\n",
    "INSTRUCTION_SIZE = 32\n",
    "REGISTER_ADRESS_SIZE = 3\n",
    "FUNCTION_SIZE = 5\n",
    "OPERATION_SIZE = 5\n",
    "IMM_OFFEST_SIZE = 16\n",
    "MEMORY_UNIT_SIZE = 16\n",
    "MEMORY_NUMBER_OF_UNITS = 2 ** 20\n",
    "ONE_OPERANDS = ['nop','setc','clrc','not','inc','dec','out','in']\n",
    "TWO_OPERANDS = ['mov','add','sub','and','or','shl','shr']\n",
    "MEMORY_AND_IMMEDIATE = ['push','pop','std','ldd','ldm','iadd']\n",
    "BRANCH = ['jz','jn','jc','jmp','call','ret']"
   ]
  },
  {
   "cell_type": "code",
   "execution_count": 360,
   "metadata": {},
   "outputs": [],
   "source": [
    "def convert_to_binary(decimal,size):\n",
    "    binary = bin(decimal)[2:]\n",
    "    return '0' * (size - len(binary)) + binary"
   ]
  },
  {
   "cell_type": "code",
   "execution_count": 361,
   "metadata": {},
   "outputs": [],
   "source": [
    "function_map = {}\n",
    "for i,op in enumerate(ONE_OPERANDS):\n",
    "    function_map[op] = convert_to_binary(i,FUNCTION_SIZE)"
   ]
  },
  {
   "cell_type": "code",
   "execution_count": 362,
   "metadata": {},
   "outputs": [],
   "source": [
    "two_operands_operation_map = {}\n",
    "for i,op in enumerate(TWO_OPERANDS):\n",
    "    two_operands_operation_map[op] = convert_to_binary(i+1,OPERATION_SIZE) "
   ]
  },
  {
   "cell_type": "code",
   "execution_count": 363,
   "metadata": {},
   "outputs": [],
   "source": [
    "memory_immediate_operation_map = {}\n",
    "for i,op in enumerate(MEMORY_AND_IMMEDIATE):\n",
    "    memory_immediate_operation_map[op] = '01' + convert_to_binary(i,3) if op not in ['ldm','iadd'] else '011' + convert_to_binary(i - 4 + 2,2)"
   ]
  },
  {
   "cell_type": "code",
   "execution_count": 364,
   "metadata": {},
   "outputs": [],
   "source": [
    "def get_reg_number(register_string):\n",
    "    return convert_to_binary(int(register_string[1:],16),REGISTER_ADRESS_SIZE)"
   ]
  },
  {
   "cell_type": "code",
   "execution_count": 365,
   "metadata": {},
   "outputs": [],
   "source": [
    "def convert_one_operand(instruction):\n",
    "    insruction_bits = '0' * 5\n",
    "    insruction_bits += get_reg_number(instruction[1]) if len(instruction) > 1 else '0' *REGISTER_ADRESS_SIZE\n",
    "    insruction_bits += '0' *REGISTER_ADRESS_SIZE\n",
    "    insruction_bits += function_map[instruction[0]]\n",
    "    return insruction_bits"
   ]
  },
  {
   "cell_type": "code",
   "execution_count": 368,
   "metadata": {},
   "outputs": [],
   "source": [
    "def convert_two_opreand(instruction):\n",
    "    insruction_bits = two_operands_operation_map[instruction[0]]\n",
    "    insruction_bits += get_reg_number(instruction[2]) if instruction[0] not in ['shl','shr'] else get_reg_number(instruction[1]) \n",
    "    insruction_bits += get_reg_number(instruction[1]) if instruction[0] not in ['shl','shr'] else '0' * REGISTER_ADRESS_SIZE \n",
    "    insruction_bits += '0' * FUNCTION_SIZE if instruction[0] not in ['shl','shr']  else convert_to_binary(int(instruction[2],16),FUNCTION_SIZE)\n",
    "    return insruction_bits"
   ]
  },
  {
   "cell_type": "code",
   "execution_count": 369,
   "metadata": {},
   "outputs": [],
   "source": [
    "def convert_memory_immediate(instruction):\n",
    "    insruction_bits = memory_immediate_operation_map[instruction[0]]\n",
    "    insruction_bits += get_reg_number(instruction[1]) if instruction[0] in ['push','pop','ldm','iadd'] else get_reg_number(instruction[3])\n",
    "    insruction_bits += '0' * REGISTER_ADRESS_SIZE if instruction[0] in ['push','pop','ldm','iadd'] else get_reg_number(instruction[1])\n",
    "    insruction_bits += '0' * IMM_OFFEST_SIZE if instruction[0] in ['push','pop'] else convert_to_binary(int(instruction[2],16),IMM_OFFEST_SIZE)\n",
    "    insruction_bits += '0' * (INSTRUCTION_SIZE - len(insruction_bits))\n",
    "    return insruction_bits"
   ]
  },
  {
   "cell_type": "code",
   "execution_count": 370,
   "metadata": {},
   "outputs": [],
   "source": [
    "def parse_instruction(instruction):\n",
    "    instruction = re.sub(r'[,()]',' ',instruction)\n",
    "    instruction = re.split(r'\\s+',instruction.strip())\n",
    "    return instruction "
   ]
  },
  {
   "cell_type": "code",
   "execution_count": 371,
   "metadata": {},
   "outputs": [],
   "source": [
    "def convert_instruction(instruction):\n",
    "    instruction = parse_instruction(instruction.lower())\n",
    "    return convert_one_operand(instruction) if instruction[0] in ONE_OPERANDS else convert_two_opreand(instruction) if instruction[0] in TWO_OPERANDS else convert_memory_immediate(instruction)"
   ]
  },
  {
   "cell_type": "code",
   "execution_count": 372,
   "metadata": {},
   "outputs": [],
   "source": [
    "def print_16_bits(instruction):\n",
    "    print(instruction[:5],instruction[5:8],instruction[8:11],instruction[11:])\n",
    "def print_32_bits(instruction):\n",
    "    print(instruction[:5],instruction[5:8],instruction[8:11],instruction[11:27],instruction[27:])\n",
    "def chech_print(instruction):\n",
    "    if len(instruction) == 32:\n",
    "        print_32_bits(instruction)\n",
    "    elif len(instruction) == 16:\n",
    "        print_16_bits(instruction)\n",
    "    else:\n",
    "        print('Error in converter')"
   ]
  },
  {
   "cell_type": "code",
   "execution_count": 373,
   "metadata": {},
   "outputs": [
    {
     "output_type": "stream",
     "name": "stdout",
     "text": [
      "01010 110 001 0000000000010000 00000\n"
     ]
    }
   ],
   "source": [
    "chech_print(convert_instruction('STD R1 ,10 ( R6 )'))"
   ]
  },
  {
   "cell_type": "code",
   "execution_count": 374,
   "metadata": {},
   "outputs": [],
   "source": [
    "def is_org(string):\n",
    "    return string.lower()[:4] == '.org'"
   ]
  },
  {
   "cell_type": "code",
   "execution_count": 375,
   "metadata": {},
   "outputs": [],
   "source": [
    "def convert_file(file):\n",
    "    file = open(file,'r')\n",
    "    binary_memory = np.full(MEMORY_NUMBER_OF_UNITS,fill_value= '0' * MEMORY_UNIT_SIZE) \n",
    "    org_value = 0\n",
    "    for line in file:\n",
    "        comment_split = line.strip().split('#')\n",
    "        if comment_split[0] != '':\n",
    "            instruction_string = comment_split[0]\n",
    "            if is_org(instruction_string):\n",
    "                org_value = int(instruction_string[4:],16)\n",
    "            else:\n",
    "                try:\n",
    "                    binary_memory[org_value] = convert_to_binary(int(instruction_string,16),MEMORY_UNIT_SIZE)\n",
    "                    org_value += 1\n",
    "                except:\n",
    "                    op_code = convert_instruction(instruction_string)\n",
    "                    if len(op_code) == 32:\n",
    "                        binary_memory[org_value] = op_code[:16]\n",
    "                        org_value += 1\n",
    "                        binary_memory[org_value] = op_code[16:]\n",
    "                        org_value += 1\n",
    "                    elif len(op_code) == 16:\n",
    "                        binary_memory[org_value] = op_code\n",
    "                        org_value += 1\n",
    "                    else:\n",
    "                        raise('ERR: unexpected opeartion code length: '+str(len(op_code)))        \n",
    "    file.close()            \n",
    "    return binary_memory"
   ]
  },
  {
   "cell_type": "code",
   "execution_count": 376,
   "metadata": {},
   "outputs": [
    {
     "output_type": "stream",
     "name": "stdout",
     "text": [
      "00110 010 000 00001\n"
     ]
    }
   ],
   "source": [
    "chech_print(convert_instruction('SHL R2,1'))"
   ]
  },
  {
   "cell_type": "code",
   "execution_count": 377,
   "metadata": {
    "tags": []
   },
   "outputs": [],
   "source": [
    "output_file = open('../instructions/testcase1.txt','w')\n",
    "for i,instruction in enumerate(convert_file('../instructions/testcase1.asm')):\n",
    "    output_file.write(instruction + ('\\n' if i != MEMORY_NUMBER_OF_UNITS-1 else ''))\n",
    "output_file.close()  "
   ]
  },
  {
   "cell_type": "code",
   "execution_count": null,
   "metadata": {},
   "outputs": [],
   "source": []
  }
 ]
}